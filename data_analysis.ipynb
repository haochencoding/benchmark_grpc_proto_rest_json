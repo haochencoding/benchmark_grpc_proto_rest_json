{
 "cells": [
  {
   "cell_type": "code",
   "execution_count": 1,
   "id": "dd2361ed",
   "metadata": {},
   "outputs": [],
   "source": [
    "import pandas as pd\n",
    "import numpy as np\n",
    "from pathlib import Path\n",
    "import matplotlib.pyplot as plt"
   ]
  },
  {
   "cell_type": "markdown",
   "id": "0866ac24",
   "metadata": {},
   "source": [
    "# Content of Table"
   ]
  },
  {
   "cell_type": "markdown",
   "id": "872bbe05",
   "metadata": {},
   "source": [
    "# Import & transform data"
   ]
  },
  {
   "cell_type": "markdown",
   "id": "b5d04530",
   "metadata": {},
   "source": [
    "## Import data"
   ]
  },
  {
   "cell_type": "code",
   "execution_count": 2,
   "id": "a0cfa324",
   "metadata": {},
   "outputs": [],
   "source": [
    "DATA_DIR = Path('data/single_request')\n",
    "LATENCY_CSV = 'single_request_latency.csv'\n",
    "SERVER_USAGE_CSV = 'single_request_server_usage.csv'\n",
    "CLIENT_USAGE_CSV = 'single_request_client_usage.csv'"
   ]
  },
  {
   "cell_type": "code",
   "execution_count": 3,
   "id": "8d3b4f10",
   "metadata": {},
   "outputs": [],
   "source": [
    "df_latency = pd.read_csv(DATA_DIR / LATENCY_CSV)\n",
    "df_server_usage = pd.read_csv(DATA_DIR / SERVER_USAGE_CSV)\n",
    "df_client_usage = pd.read_csv(DATA_DIR / CLIENT_USAGE_CSV)"
   ]
  },
  {
   "cell_type": "markdown",
   "id": "a956516e",
   "metadata": {},
   "source": [
    "## Transform data"
   ]
  },
  {
   "cell_type": "markdown",
   "id": "06775f7c",
   "metadata": {},
   "source": [
    "### Standardise timestamps"
   ]
  },
  {
   "cell_type": "markdown",
   "id": "fa52f6bb",
   "metadata": {},
   "source": [
    "Offset timestamps to a common baseline, which is the server start time for each epoch"
   ]
  },
  {
   "cell_type": "code",
   "execution_count": 4,
   "id": "0e440ad9",
   "metadata": {},
   "outputs": [],
   "source": [
    "def offset_timestamp_to_base(df, ts_cols: str | list[str], base_col='perf_base_ns'):\n",
    "    \"\"\"\n",
    "    Offsets ts_col by subtracting base_col so timestamps start at zero.\n",
    "    \"\"\"\n",
    "    cols = [ts_cols] if isinstance(ts_cols, str) else ts_cols\n",
    "\n",
    "    for col in cols:\n",
    "        df[col] = df[col] - df[base_col]\n",
    "\n",
    "offset_timestamp_to_base(df_latency, ['t0', 't_req', 't_res', 't_in', 't_out'])\n",
    "offset_timestamp_to_base(df_server_usage, 'ts')\n",
    "offset_timestamp_to_base(df_client_usage, 'ts')"
   ]
  },
  {
   "cell_type": "markdown",
   "id": "f34e045f",
   "metadata": {},
   "source": [
    "### Calculate Duration"
   ]
  },
  {
   "cell_type": "markdown",
   "id": "c8b7541f",
   "metadata": {},
   "source": [
    "Caluclate duration for each specific phase"
   ]
  },
  {
   "cell_type": "code",
   "execution_count": 5,
   "id": "15ae5479",
   "metadata": {},
   "outputs": [],
   "source": [
    "# 1. Client “setup” only: create req, headers/URL, channel, in‐memory object\n",
    "df_latency['client_setup_ns'] = df_latency['t_req'] - df_latency['t0']\n",
    "\n",
    "# 2. Uplink latency (client→server network + server receive/parse)\n",
    "df_latency['uplink_latency_ns'] = df_latency['t_in']  - df_latency['t_req']\n",
    "\n",
    "# 3. Pure server processing (handler logic + response serialisation)\n",
    "df_latency['server_processing_ns'] = df_latency['t_out'] - df_latency['t_in']\n",
    "\n",
    "# 4. Downlink latency (server→client network + client parse/deserialisation)\n",
    "df_latency['downlink_latency_ns'] = df_latency['t_res'] - df_latency['t_out']"
   ]
  },
  {
   "cell_type": "markdown",
   "id": "2f3078c6",
   "metadata": {},
   "source": [
    "Calculate end-to-end duration"
   ]
  },
  {
   "cell_type": "code",
   "execution_count": 6,
   "id": "ac215e39",
   "metadata": {},
   "outputs": [],
   "source": [
    "# 1. Client‐observed round‐trip (serialisation + network + server + deserialisation)\n",
    "df_latency['round_trip_ns'] = df_latency['t_res'] - df_latency['t_req']\n",
    "\n",
    "# 2. Total in‐app runtime (setup + round‐trip)\n",
    "df_latency['total_runtime_ns'] = df_latency['t_res'] - df_latency['t0']"
   ]
  },
  {
   "cell_type": "code",
   "execution_count": 7,
   "id": "282585ec",
   "metadata": {},
   "outputs": [],
   "source": [
    "# 1. Client‐observed round‐trip (serialisation + network + server + deserialisation)\n",
    "df_latency['round_trip_ns'] = df_latency['size'] / df_latency['round_trip_ns']\n",
    "\n",
    "# 2. Total in‐app runtime (setup + round‐trip)\n",
    "df_latency['total_runtime_ns'] = df_latency['t_res'] - df_latency['t0']"
   ]
  },
  {
   "cell_type": "markdown",
   "id": "e01e89cd",
   "metadata": {},
   "source": [
    "### Caulculate speed"
   ]
  },
  {
   "cell_type": "code",
   "execution_count": 8,
   "id": "50611b2f",
   "metadata": {},
   "outputs": [],
   "source": [
    "df_latency['items_per_ms_round_trip'] = (df_latency['size'] / df_latency['round_trip_ns']) * 1_000_000\n",
    "df_latency['items_per_ms_round_trip'] = (df_latency['size'] / df_latency['total_runtime_ns']) * 1_000_000"
   ]
  },
  {
   "cell_type": "markdown",
   "id": "23843f7a",
   "metadata": {},
   "source": [
    "## Inspection"
   ]
  },
  {
   "cell_type": "code",
   "execution_count": 9,
   "id": "7f48816d",
   "metadata": {},
   "outputs": [
    {
     "data": {
      "text/html": [
       "<div>\n",
       "<style scoped>\n",
       "    .dataframe tbody tr th:only-of-type {\n",
       "        vertical-align: middle;\n",
       "    }\n",
       "\n",
       "    .dataframe tbody tr th {\n",
       "        vertical-align: top;\n",
       "    }\n",
       "\n",
       "    .dataframe thead th {\n",
       "        text-align: right;\n",
       "    }\n",
       "</style>\n",
       "<table border=\"1\" class=\"dataframe\">\n",
       "  <thead>\n",
       "    <tr style=\"text-align: right;\">\n",
       "      <th></th>\n",
       "      <th>mode</th>\n",
       "      <th>size</th>\n",
       "      <th>req_id</th>\n",
       "      <th>t0</th>\n",
       "      <th>t_req</th>\n",
       "      <th>t_res</th>\n",
       "      <th>t_in</th>\n",
       "      <th>t_out</th>\n",
       "      <th>perf_base_ns</th>\n",
       "      <th>epoch_base_ns</th>\n",
       "      <th>req_size_bytes</th>\n",
       "      <th>res_size_bytes</th>\n",
       "      <th>client_setup_ns</th>\n",
       "      <th>uplink_latency_ns</th>\n",
       "      <th>server_processing_ns</th>\n",
       "      <th>downlink_latency_ns</th>\n",
       "      <th>round_trip_ns</th>\n",
       "      <th>total_runtime_ns</th>\n",
       "      <th>items_per_ms_round_trip</th>\n",
       "    </tr>\n",
       "  </thead>\n",
       "  <tbody>\n",
       "    <tr>\n",
       "      <th>0</th>\n",
       "      <td>grpc</td>\n",
       "      <td>1</td>\n",
       "      <td>d6fc5c563cada9bc</td>\n",
       "      <td>343614125</td>\n",
       "      <td>347422000</td>\n",
       "      <td>352247833</td>\n",
       "      <td>351662125</td>\n",
       "      <td>351862083</td>\n",
       "      <td>37801799555250</td>\n",
       "      <td>1747488516924895000</td>\n",
       "      <td>2</td>\n",
       "      <td>100</td>\n",
       "      <td>3807875</td>\n",
       "      <td>4240125</td>\n",
       "      <td>199958</td>\n",
       "      <td>385750</td>\n",
       "      <td>2.072181e-07</td>\n",
       "      <td>8633708</td>\n",
       "      <td>0.115825</td>\n",
       "    </tr>\n",
       "    <tr>\n",
       "      <th>1</th>\n",
       "      <td>grpc</td>\n",
       "      <td>1</td>\n",
       "      <td>fdd5cc376181e068</td>\n",
       "      <td>482784791</td>\n",
       "      <td>485150916</td>\n",
       "      <td>487121333</td>\n",
       "      <td>486641250</td>\n",
       "      <td>486794041</td>\n",
       "      <td>37801799555250</td>\n",
       "      <td>1747488516924895000</td>\n",
       "      <td>2</td>\n",
       "      <td>100</td>\n",
       "      <td>2366125</td>\n",
       "      <td>1490334</td>\n",
       "      <td>152791</td>\n",
       "      <td>327292</td>\n",
       "      <td>5.075068e-07</td>\n",
       "      <td>4336542</td>\n",
       "      <td>0.230598</td>\n",
       "    </tr>\n",
       "    <tr>\n",
       "      <th>2</th>\n",
       "      <td>grpc</td>\n",
       "      <td>1</td>\n",
       "      <td>5ab938f342d65c35</td>\n",
       "      <td>616468000</td>\n",
       "      <td>618739000</td>\n",
       "      <td>620799833</td>\n",
       "      <td>620324875</td>\n",
       "      <td>620460500</td>\n",
       "      <td>37801799555250</td>\n",
       "      <td>1747488516924895000</td>\n",
       "      <td>2</td>\n",
       "      <td>100</td>\n",
       "      <td>2271000</td>\n",
       "      <td>1585875</td>\n",
       "      <td>135625</td>\n",
       "      <td>339333</td>\n",
       "      <td>4.852407e-07</td>\n",
       "      <td>4331833</td>\n",
       "      <td>0.230849</td>\n",
       "    </tr>\n",
       "    <tr>\n",
       "      <th>3</th>\n",
       "      <td>grpc</td>\n",
       "      <td>1</td>\n",
       "      <td>b80220b2b1266432</td>\n",
       "      <td>752450708</td>\n",
       "      <td>754810125</td>\n",
       "      <td>756896458</td>\n",
       "      <td>756282041</td>\n",
       "      <td>756555000</td>\n",
       "      <td>37801799555250</td>\n",
       "      <td>1747488516924895000</td>\n",
       "      <td>2</td>\n",
       "      <td>100</td>\n",
       "      <td>2359417</td>\n",
       "      <td>1471916</td>\n",
       "      <td>272959</td>\n",
       "      <td>341458</td>\n",
       "      <td>4.793099e-07</td>\n",
       "      <td>4445750</td>\n",
       "      <td>0.224934</td>\n",
       "    </tr>\n",
       "    <tr>\n",
       "      <th>4</th>\n",
       "      <td>grpc</td>\n",
       "      <td>1</td>\n",
       "      <td>7c30bc491bcbff11</td>\n",
       "      <td>887355208</td>\n",
       "      <td>889608000</td>\n",
       "      <td>891538250</td>\n",
       "      <td>891064625</td>\n",
       "      <td>891176125</td>\n",
       "      <td>37801799555250</td>\n",
       "      <td>1747488516924895000</td>\n",
       "      <td>2</td>\n",
       "      <td>100</td>\n",
       "      <td>2252792</td>\n",
       "      <td>1456625</td>\n",
       "      <td>111500</td>\n",
       "      <td>362125</td>\n",
       "      <td>5.180676e-07</td>\n",
       "      <td>4183042</td>\n",
       "      <td>0.239060</td>\n",
       "    </tr>\n",
       "  </tbody>\n",
       "</table>\n",
       "</div>"
      ],
      "text/plain": [
       "   mode  size            req_id         t0      t_req      t_res       t_in  \\\n",
       "0  grpc     1  d6fc5c563cada9bc  343614125  347422000  352247833  351662125   \n",
       "1  grpc     1  fdd5cc376181e068  482784791  485150916  487121333  486641250   \n",
       "2  grpc     1  5ab938f342d65c35  616468000  618739000  620799833  620324875   \n",
       "3  grpc     1  b80220b2b1266432  752450708  754810125  756896458  756282041   \n",
       "4  grpc     1  7c30bc491bcbff11  887355208  889608000  891538250  891064625   \n",
       "\n",
       "       t_out    perf_base_ns        epoch_base_ns  req_size_bytes  \\\n",
       "0  351862083  37801799555250  1747488516924895000               2   \n",
       "1  486794041  37801799555250  1747488516924895000               2   \n",
       "2  620460500  37801799555250  1747488516924895000               2   \n",
       "3  756555000  37801799555250  1747488516924895000               2   \n",
       "4  891176125  37801799555250  1747488516924895000               2   \n",
       "\n",
       "   res_size_bytes  client_setup_ns  uplink_latency_ns  server_processing_ns  \\\n",
       "0             100          3807875            4240125                199958   \n",
       "1             100          2366125            1490334                152791   \n",
       "2             100          2271000            1585875                135625   \n",
       "3             100          2359417            1471916                272959   \n",
       "4             100          2252792            1456625                111500   \n",
       "\n",
       "   downlink_latency_ns  round_trip_ns  total_runtime_ns  \\\n",
       "0               385750   2.072181e-07           8633708   \n",
       "1               327292   5.075068e-07           4336542   \n",
       "2               339333   4.852407e-07           4331833   \n",
       "3               341458   4.793099e-07           4445750   \n",
       "4               362125   5.180676e-07           4183042   \n",
       "\n",
       "   items_per_ms_round_trip  \n",
       "0                 0.115825  \n",
       "1                 0.230598  \n",
       "2                 0.230849  \n",
       "3                 0.224934  \n",
       "4                 0.239060  "
      ]
     },
     "execution_count": 9,
     "metadata": {},
     "output_type": "execute_result"
    }
   ],
   "source": [
    "df_latency.head()"
   ]
  },
  {
   "cell_type": "code",
   "execution_count": 10,
   "id": "3bda7082",
   "metadata": {},
   "outputs": [
    {
     "data": {
      "text/html": [
       "<div>\n",
       "<style scoped>\n",
       "    .dataframe tbody tr th:only-of-type {\n",
       "        vertical-align: middle;\n",
       "    }\n",
       "\n",
       "    .dataframe tbody tr th {\n",
       "        vertical-align: top;\n",
       "    }\n",
       "\n",
       "    .dataframe thead th {\n",
       "        text-align: right;\n",
       "    }\n",
       "</style>\n",
       "<table border=\"1\" class=\"dataframe\">\n",
       "  <thead>\n",
       "    <tr style=\"text-align: right;\">\n",
       "      <th></th>\n",
       "      <th>protocol</th>\n",
       "      <th>size</th>\n",
       "      <th>usage_side</th>\n",
       "      <th>ts</th>\n",
       "      <th>rss</th>\n",
       "      <th>cpu</th>\n",
       "      <th>perf_base_ns</th>\n",
       "      <th>epoch_base_ns</th>\n",
       "    </tr>\n",
       "  </thead>\n",
       "  <tbody>\n",
       "    <tr>\n",
       "      <th>0</th>\n",
       "      <td>grpc</td>\n",
       "      <td>1</td>\n",
       "      <td>server</td>\n",
       "      <td>67553458</td>\n",
       "      <td>16015360</td>\n",
       "      <td>0.5</td>\n",
       "      <td>37801799555250</td>\n",
       "      <td>1747488516924895000</td>\n",
       "    </tr>\n",
       "    <tr>\n",
       "      <th>1</th>\n",
       "      <td>grpc</td>\n",
       "      <td>1</td>\n",
       "      <td>server</td>\n",
       "      <td>69210583</td>\n",
       "      <td>16154624</td>\n",
       "      <td>0.2</td>\n",
       "      <td>37801799555250</td>\n",
       "      <td>1747488516924895000</td>\n",
       "    </tr>\n",
       "    <tr>\n",
       "      <th>2</th>\n",
       "      <td>grpc</td>\n",
       "      <td>1</td>\n",
       "      <td>server</td>\n",
       "      <td>70512000</td>\n",
       "      <td>16261120</td>\n",
       "      <td>0.2</td>\n",
       "      <td>37801799555250</td>\n",
       "      <td>1747488516924895000</td>\n",
       "    </tr>\n",
       "    <tr>\n",
       "      <th>3</th>\n",
       "      <td>grpc</td>\n",
       "      <td>1</td>\n",
       "      <td>server</td>\n",
       "      <td>71805083</td>\n",
       "      <td>16384000</td>\n",
       "      <td>0.2</td>\n",
       "      <td>37801799555250</td>\n",
       "      <td>1747488516924895000</td>\n",
       "    </tr>\n",
       "    <tr>\n",
       "      <th>4</th>\n",
       "      <td>grpc</td>\n",
       "      <td>1</td>\n",
       "      <td>server</td>\n",
       "      <td>73092791</td>\n",
       "      <td>16515072</td>\n",
       "      <td>0.3</td>\n",
       "      <td>37801799555250</td>\n",
       "      <td>1747488516924895000</td>\n",
       "    </tr>\n",
       "  </tbody>\n",
       "</table>\n",
       "</div>"
      ],
      "text/plain": [
       "  protocol  size usage_side        ts       rss  cpu    perf_base_ns  \\\n",
       "0     grpc     1     server  67553458  16015360  0.5  37801799555250   \n",
       "1     grpc     1     server  69210583  16154624  0.2  37801799555250   \n",
       "2     grpc     1     server  70512000  16261120  0.2  37801799555250   \n",
       "3     grpc     1     server  71805083  16384000  0.2  37801799555250   \n",
       "4     grpc     1     server  73092791  16515072  0.3  37801799555250   \n",
       "\n",
       "         epoch_base_ns  \n",
       "0  1747488516924895000  \n",
       "1  1747488516924895000  \n",
       "2  1747488516924895000  \n",
       "3  1747488516924895000  \n",
       "4  1747488516924895000  "
      ]
     },
     "execution_count": 10,
     "metadata": {},
     "output_type": "execute_result"
    }
   ],
   "source": [
    "df_server_usage.head()"
   ]
  },
  {
   "cell_type": "code",
   "execution_count": 11,
   "id": "e93b2e74",
   "metadata": {},
   "outputs": [
    {
     "data": {
      "text/html": [
       "<div>\n",
       "<style scoped>\n",
       "    .dataframe tbody tr th:only-of-type {\n",
       "        vertical-align: middle;\n",
       "    }\n",
       "\n",
       "    .dataframe tbody tr th {\n",
       "        vertical-align: top;\n",
       "    }\n",
       "\n",
       "    .dataframe thead th {\n",
       "        text-align: right;\n",
       "    }\n",
       "</style>\n",
       "<table border=\"1\" class=\"dataframe\">\n",
       "  <thead>\n",
       "    <tr style=\"text-align: right;\">\n",
       "      <th></th>\n",
       "      <th>protocol</th>\n",
       "      <th>size</th>\n",
       "      <th>usage_side</th>\n",
       "      <th>ts</th>\n",
       "      <th>rss</th>\n",
       "      <th>cpu</th>\n",
       "      <th>perf_base_ns</th>\n",
       "      <th>epoch_base_ns</th>\n",
       "    </tr>\n",
       "  </thead>\n",
       "  <tbody>\n",
       "    <tr>\n",
       "      <th>0</th>\n",
       "      <td>grpc</td>\n",
       "      <td>1</td>\n",
       "      <td>client</td>\n",
       "      <td>13694464458</td>\n",
       "      <td>19202048</td>\n",
       "      <td>0.7</td>\n",
       "      <td>37801799555250</td>\n",
       "      <td>1747488516924895000</td>\n",
       "    </tr>\n",
       "    <tr>\n",
       "      <th>1</th>\n",
       "      <td>grpc</td>\n",
       "      <td>1</td>\n",
       "      <td>client</td>\n",
       "      <td>13696110416</td>\n",
       "      <td>20123648</td>\n",
       "      <td>2.5</td>\n",
       "      <td>37801799555250</td>\n",
       "      <td>1747488516924895000</td>\n",
       "    </tr>\n",
       "    <tr>\n",
       "      <th>2</th>\n",
       "      <td>grpc</td>\n",
       "      <td>1</td>\n",
       "      <td>client</td>\n",
       "      <td>13697413041</td>\n",
       "      <td>20365312</td>\n",
       "      <td>2.4</td>\n",
       "      <td>37801799555250</td>\n",
       "      <td>1747488516924895000</td>\n",
       "    </tr>\n",
       "    <tr>\n",
       "      <th>3</th>\n",
       "      <td>grpc</td>\n",
       "      <td>1</td>\n",
       "      <td>client</td>\n",
       "      <td>13698707375</td>\n",
       "      <td>20488192</td>\n",
       "      <td>1.5</td>\n",
       "      <td>37801799555250</td>\n",
       "      <td>1747488516924895000</td>\n",
       "    </tr>\n",
       "    <tr>\n",
       "      <th>4</th>\n",
       "      <td>grpc</td>\n",
       "      <td>1</td>\n",
       "      <td>client</td>\n",
       "      <td>13700001583</td>\n",
       "      <td>20946944</td>\n",
       "      <td>2.4</td>\n",
       "      <td>37801799555250</td>\n",
       "      <td>1747488516924895000</td>\n",
       "    </tr>\n",
       "  </tbody>\n",
       "</table>\n",
       "</div>"
      ],
      "text/plain": [
       "  protocol  size usage_side           ts       rss  cpu    perf_base_ns  \\\n",
       "0     grpc     1     client  13694464458  19202048  0.7  37801799555250   \n",
       "1     grpc     1     client  13696110416  20123648  2.5  37801799555250   \n",
       "2     grpc     1     client  13697413041  20365312  2.4  37801799555250   \n",
       "3     grpc     1     client  13698707375  20488192  1.5  37801799555250   \n",
       "4     grpc     1     client  13700001583  20946944  2.4  37801799555250   \n",
       "\n",
       "         epoch_base_ns  \n",
       "0  1747488516924895000  \n",
       "1  1747488516924895000  \n",
       "2  1747488516924895000  \n",
       "3  1747488516924895000  \n",
       "4  1747488516924895000  "
      ]
     },
     "execution_count": 11,
     "metadata": {},
     "output_type": "execute_result"
    }
   ],
   "source": [
    "df_client_usage.head()"
   ]
  },
  {
   "cell_type": "markdown",
   "id": "d5198111",
   "metadata": {},
   "source": [
    "# Analysis"
   ]
  },
  {
   "cell_type": "markdown",
   "id": "ba015600",
   "metadata": {},
   "source": [
    "## Descriptive statistics"
   ]
  },
  {
   "cell_type": "code",
   "execution_count": 12,
   "id": "7aa20503",
   "metadata": {},
   "outputs": [
    {
     "data": {
      "text/plain": [
       "Index(['mode', 'size', 'req_id', 't0', 't_req', 't_res', 't_in', 't_out',\n",
       "       'perf_base_ns', 'epoch_base_ns', 'req_size_bytes', 'res_size_bytes',\n",
       "       'client_setup_ns', 'uplink_latency_ns', 'server_processing_ns',\n",
       "       'downlink_latency_ns', 'round_trip_ns', 'total_runtime_ns',\n",
       "       'items_per_ms_round_trip'],\n",
       "      dtype='object')"
      ]
     },
     "execution_count": 12,
     "metadata": {},
     "output_type": "execute_result"
    }
   ],
   "source": [
    "df_latency.columns"
   ]
  },
  {
   "cell_type": "markdown",
   "id": "c6aaefab",
   "metadata": {},
   "source": [
    "df_lantency"
   ]
  }
 ],
 "metadata": {
  "kernelspec": {
   "display_name": ".venv",
   "language": "python",
   "name": "python3"
  },
  "language_info": {
   "codemirror_mode": {
    "name": "ipython",
    "version": 3
   },
   "file_extension": ".py",
   "mimetype": "text/x-python",
   "name": "python",
   "nbconvert_exporter": "python",
   "pygments_lexer": "ipython3",
   "version": "3.11.12"
  }
 },
 "nbformat": 4,
 "nbformat_minor": 5
}
